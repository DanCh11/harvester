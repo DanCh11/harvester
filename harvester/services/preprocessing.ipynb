{
 "cells": [
  {
   "cell_type": "markdown",
   "metadata": {},
   "source": [
    "\n",
    "1. translate comments\n",
    "2. change rating as 1-5\n",
    "3. Lowercasing\n",
    "4. Tokenization\n",
    "5. Remove punctuation | special characters | stopwords\n",
    "6. Lemmatization | Stemming ?\n",
    "7. Handle Contraction\n",
    "8. Spell Checking\n",
    "9. Remove whitespaceing\n"
   ]
  },
  {
   "cell_type": "code",
   "execution_count": 97,
   "metadata": {},
   "outputs": [],
   "source": [
    "import re\n",
    "\n",
    "import spacy\n",
    "import pandas as pd\n",
    "from deep_translator import GoogleTranslator\n",
    "\n",
    "nlp = spacy.load('en_core_web_sm')\n"
   ]
  },
  {
   "cell_type": "code",
   "execution_count": 8,
   "metadata": {},
   "outputs": [],
   "source": [
    "data_path = \"../resources/crawler/aldi_reviews.csv\"\n"
   ]
  },
  {
   "cell_type": "code",
   "execution_count": 39,
   "metadata": {},
   "outputs": [
    {
     "data": {
      "text/html": [
       "<div>\n",
       "<style scoped>\n",
       "    .dataframe tbody tr th:only-of-type {\n",
       "        vertical-align: middle;\n",
       "    }\n",
       "\n",
       "    .dataframe tbody tr th {\n",
       "        vertical-align: top;\n",
       "    }\n",
       "\n",
       "    .dataframe thead th {\n",
       "        text-align: right;\n",
       "    }\n",
       "</style>\n",
       "<table border=\"1\" class=\"dataframe\">\n",
       "  <thead>\n",
       "    <tr style=\"text-align: right;\">\n",
       "      <th></th>\n",
       "      <th>comment</th>\n",
       "      <th>posting_time</th>\n",
       "      <th>rating</th>\n",
       "    </tr>\n",
       "  </thead>\n",
       "  <tbody>\n",
       "    <tr>\n",
       "      <th>0</th>\n",
       "      <td>Leider sind die Regale zu oft leer und die Ang...</td>\n",
       "      <td>2 days ago</td>\n",
       "      <td>NaN</td>\n",
       "    </tr>\n",
       "    <tr>\n",
       "      <th>1</th>\n",
       "      <td>Es ist bei Aldi immer das gleiche  , eine Ries...</td>\n",
       "      <td>6 days ago</td>\n",
       "      <td>Rated 2 out of 5 stars</td>\n",
       "    </tr>\n",
       "    <tr>\n",
       "      <th>2</th>\n",
       "      <td>Ich und mehrere Kunden haben daraufhin den Mar...</td>\n",
       "      <td>Apr 16, 2024</td>\n",
       "      <td>Rated 1 out of 5 stars</td>\n",
       "    </tr>\n",
       "    <tr>\n",
       "      <th>3</th>\n",
       "      <td>1 Stern ist noch zuviel. Wollte eine Bestellun...</td>\n",
       "      <td>Apr 15, 2024</td>\n",
       "      <td>Rated 1 out of 5 stars</td>\n",
       "    </tr>\n",
       "    <tr>\n",
       "      <th>4</th>\n",
       "      <td>Aldi im Bruch Bad Dürkheim.</td>\n",
       "      <td>Apr 16, 2024</td>\n",
       "      <td>Rated 1 out of 5 stars</td>\n",
       "    </tr>\n",
       "    <tr>\n",
       "      <th>...</th>\n",
       "      <td>...</td>\n",
       "      <td>...</td>\n",
       "      <td>...</td>\n",
       "    </tr>\n",
       "    <tr>\n",
       "      <th>1873</th>\n",
       "      <td>Die Preise sind gut im Vergleich</td>\n",
       "      <td>Jan 16, 2014</td>\n",
       "      <td>Rated 2 out of 5 stars</td>\n",
       "    </tr>\n",
       "    <tr>\n",
       "      <th>1874</th>\n",
       "      <td>Ich war gestern abend In der Filiale \" wilhelm...</td>\n",
       "      <td>Jul 13, 2013</td>\n",
       "      <td>Rated 1 out of 5 stars</td>\n",
       "    </tr>\n",
       "    <tr>\n",
       "      <th>1875</th>\n",
       "      <td>Sofort kam der Kassierer und beschimpfte sie, ...</td>\n",
       "      <td>Jun 21, 2013</td>\n",
       "      <td>Rated 1 out of 5 stars</td>\n",
       "    </tr>\n",
       "    <tr>\n",
       "      <th>1876</th>\n",
       "      <td>Bitten der Kundin einen neuen Träger und knall...</td>\n",
       "      <td>Feb 18, 2012</td>\n",
       "      <td>Rated 4 out of 5 stars</td>\n",
       "    </tr>\n",
       "    <tr>\n",
       "      <th>1877</th>\n",
       "      <td>Sehr, sehr unfreundliches Personal</td>\n",
       "      <td>Jun 20, 2011</td>\n",
       "      <td>Rated 1 out of 5 stars</td>\n",
       "    </tr>\n",
       "  </tbody>\n",
       "</table>\n",
       "<p>1878 rows × 3 columns</p>\n",
       "</div>"
      ],
      "text/plain": [
       "                                                comment  posting_time  \\\n",
       "0     Leider sind die Regale zu oft leer und die Ang...    2 days ago   \n",
       "1     Es ist bei Aldi immer das gleiche  , eine Ries...    6 days ago   \n",
       "2     Ich und mehrere Kunden haben daraufhin den Mar...  Apr 16, 2024   \n",
       "3     1 Stern ist noch zuviel. Wollte eine Bestellun...  Apr 15, 2024   \n",
       "4                           Aldi im Bruch Bad Dürkheim.  Apr 16, 2024   \n",
       "...                                                 ...           ...   \n",
       "1873                   Die Preise sind gut im Vergleich  Jan 16, 2014   \n",
       "1874  Ich war gestern abend In der Filiale \" wilhelm...  Jul 13, 2013   \n",
       "1875  Sofort kam der Kassierer und beschimpfte sie, ...  Jun 21, 2013   \n",
       "1876  Bitten der Kundin einen neuen Träger und knall...  Feb 18, 2012   \n",
       "1877                 Sehr, sehr unfreundliches Personal  Jun 20, 2011   \n",
       "\n",
       "                      rating  \n",
       "0                        NaN  \n",
       "1     Rated 2 out of 5 stars  \n",
       "2     Rated 1 out of 5 stars  \n",
       "3     Rated 1 out of 5 stars  \n",
       "4     Rated 1 out of 5 stars  \n",
       "...                      ...  \n",
       "1873  Rated 2 out of 5 stars  \n",
       "1874  Rated 1 out of 5 stars  \n",
       "1875  Rated 1 out of 5 stars  \n",
       "1876  Rated 4 out of 5 stars  \n",
       "1877  Rated 1 out of 5 stars  \n",
       "\n",
       "[1878 rows x 3 columns]"
      ]
     },
     "execution_count": 39,
     "metadata": {},
     "output_type": "execute_result"
    }
   ],
   "source": [
    "df = pd.read_csv(data_path)\n",
    "df"
   ]
  },
  {
   "cell_type": "code",
   "execution_count": 69,
   "metadata": {},
   "outputs": [],
   "source": [
    "def translate_text(text: str, to_language: str = 'en') -> str:\n",
    "    return GoogleTranslator(source='auto', target=to_language).translate(text=text)"
   ]
  },
  {
   "cell_type": "code",
   "execution_count": 94,
   "metadata": {},
   "outputs": [],
   "source": [
    "def convert_rating_into_numbers(text):\n",
    "    if pd.isna(text) or not isinstance(text, str):\n",
    "        return None\n",
    "    else:\n",
    "        rating_match = re.search(r'\\b\\d+\\b', text)\n",
    "        if rating_match:\n",
    "            return int(rating_match.group())\n",
    "        else:\n",
    "            return None"
   ]
  },
  {
   "cell_type": "code",
   "execution_count": 95,
   "metadata": {},
   "outputs": [],
   "source": [
    "df2 = df.head()"
   ]
  },
  {
   "cell_type": "code",
   "execution_count": 98,
   "metadata": {},
   "outputs": [
    {
     "name": "stderr",
     "output_type": "stream",
     "text": [
      "/tmp/ipykernel_85789/2289207501.py:1: SettingWithCopyWarning: \n",
      "A value is trying to be set on a copy of a slice from a DataFrame.\n",
      "Try using .loc[row_indexer,col_indexer] = value instead\n",
      "\n",
      "See the caveats in the documentation: https://pandas.pydata.org/pandas-docs/stable/user_guide/indexing.html#returning-a-view-versus-a-copy\n",
      "  df2['comment_translated'] = df2['comment'].apply(translate_text)\n"
     ]
    }
   ],
   "source": [
    "df2['comment_translated'] = df2['comment'].apply(translate_text)"
   ]
  },
  {
   "cell_type": "code",
   "execution_count": null,
   "metadata": {},
   "outputs": [],
   "source": []
  }
 ],
 "metadata": {
  "kernelspec": {
   "display_name": "venv",
   "language": "python",
   "name": "python3"
  },
  "language_info": {
   "codemirror_mode": {
    "name": "ipython",
    "version": 3
   },
   "file_extension": ".py",
   "mimetype": "text/x-python",
   "name": "python",
   "nbconvert_exporter": "python",
   "pygments_lexer": "ipython3",
   "version": "3.12.3"
  }
 },
 "nbformat": 4,
 "nbformat_minor": 2
}
